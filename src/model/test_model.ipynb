{
 "cells": [
  {
   "cell_type": "code",
   "execution_count": 1,
   "id": "e9bb3c51-2a71-42e6-b7f6-74dc49741c6b",
   "metadata": {},
   "outputs": [],
   "source": [
    "import numpy as np\n",
    "import tensorflow as tf\n",
    "from tensorflow.keras.datasets import fashion_mnist\n",
    "from tensorflow.keras.models import Sequential\n",
    "from tensorflow.keras.layers import Conv2D, MaxPool2D, Flatten, Dense, Dropout"
   ]
  },
  {
   "cell_type": "code",
   "execution_count": 2,
   "id": "0a0a694c-5476-4a06-b885-30ce39689712",
   "metadata": {},
   "outputs": [
    {
     "name": "stdout",
     "output_type": "stream",
     "text": [
      "(60000, 28, 28, 1) (10000, 28, 28, 1)\n",
      "(60000,) (10000,)\n"
     ]
    }
   ],
   "source": [
    "(x_train, y_train),(x_test, y_test) = fashion_mnist.load_data()\n",
    "\n",
    "x_train=x_train.reshape(-1, 28, 28, 1)\n",
    "x_test=x_test.reshape(-1, 28, 28, 1)\n",
    "\n",
    "print(x_train.shape, x_test.shape)\n",
    "print(y_train.shape, y_test.shape)\n",
    "\n",
    "x_train = x_train.astype(np.float32) / 255.0\n",
    "x_test = x_test.astype(np.float32) / 255.0"
   ]
  },
  {
   "cell_type": "code",
   "execution_count": 3,
   "id": "5fa6163e-4aef-4978-9aa2-9b8b1a08dedc",
   "metadata": {},
   "outputs": [],
   "source": [
    "cnn = Sequential()\n",
    "\n",
    "cnn.add(Conv2D(input_shape=(28,28,1), kernel_size=(3,3),\n",
    "               filters=32, activation='relu'))\n",
    "cnn.add(Conv2D(kernel_size=(3,3), filters=64, activation='relu'))\n",
    "cnn.add(MaxPool2D(pool_size=(2,2)))\n",
    "cnn.add(Dropout(0.25))\n",
    "\n",
    "cnn.add(Flatten())\n",
    "\n",
    "cnn.add(Dense(128, activation='relu'))\n",
    "cnn.add(Dropout(0.5))\n",
    "cnn.add(Dense(10, activation='softmax'))"
   ]
  },
  {
   "cell_type": "code",
   "execution_count": 4,
   "id": "5d97f505-d5ff-49f5-b0ec-9e78ece59ef0",
   "metadata": {},
   "outputs": [
    {
     "name": "stdout",
     "output_type": "stream",
     "text": [
      "Model: \"sequential\"\n",
      "_________________________________________________________________\n",
      " Layer (type)                Output Shape              Param #   \n",
      "=================================================================\n",
      " conv2d (Conv2D)             (None, 26, 26, 32)        320       \n",
      "                                                                 \n",
      " conv2d_1 (Conv2D)           (None, 24, 24, 64)        18496     \n",
      "                                                                 \n",
      " max_pooling2d (MaxPooling2D  (None, 12, 12, 64)       0         \n",
      " )                                                               \n",
      "                                                                 \n",
      " dropout (Dropout)           (None, 12, 12, 64)        0         \n",
      "                                                                 \n",
      " flatten (Flatten)           (None, 9216)              0         \n",
      "                                                                 \n",
      " dense (Dense)               (None, 128)               1179776   \n",
      "                                                                 \n",
      " dropout_1 (Dropout)         (None, 128)               0         \n",
      "                                                                 \n",
      " dense_1 (Dense)             (None, 10)                1290      \n",
      "                                                                 \n",
      "=================================================================\n",
      "Total params: 1,199,882\n",
      "Trainable params: 1,199,882\n",
      "Non-trainable params: 0\n",
      "_________________________________________________________________\n"
     ]
    }
   ],
   "source": [
    "cnn.compile(loss='sparse_categorical_crossentropy',\n",
    "            optimizer=tf.keras.optimizers.Adam(), metrics=['accuracy'])\n",
    "\n",
    "cnn.summary()"
   ]
  },
  {
   "cell_type": "code",
   "execution_count": 5,
   "id": "d643b6fe-24a1-4c57-a897-4839fe9f8cb5",
   "metadata": {},
   "outputs": [
    {
     "name": "stdout",
     "output_type": "stream",
     "text": [
      "Epoch 1/30\n",
      "469/469 [==============================] - 55s 117ms/step - loss: 0.5276 - accuracy: 0.8127 - val_loss: 0.3303 - val_accuracy: 0.8816\n",
      "Epoch 2/30\n",
      "469/469 [==============================] - 51s 109ms/step - loss: 0.3418 - accuracy: 0.8778 - val_loss: 0.2834 - val_accuracy: 0.8979\n",
      "Epoch 3/30\n",
      "469/469 [==============================] - 51s 109ms/step - loss: 0.2949 - accuracy: 0.8940 - val_loss: 0.2645 - val_accuracy: 0.9015\n",
      "Epoch 4/30\n",
      "469/469 [==============================] - 53s 112ms/step - loss: 0.2629 - accuracy: 0.9043 - val_loss: 0.2420 - val_accuracy: 0.9120\n",
      "Epoch 5/30\n",
      "469/469 [==============================] - 61s 130ms/step - loss: 0.2413 - accuracy: 0.9114 - val_loss: 0.2357 - val_accuracy: 0.9132\n",
      "Epoch 6/30\n",
      "469/469 [==============================] - 59s 127ms/step - loss: 0.2218 - accuracy: 0.9185 - val_loss: 0.2238 - val_accuracy: 0.9186\n",
      "Epoch 7/30\n",
      "469/469 [==============================] - 59s 126ms/step - loss: 0.2083 - accuracy: 0.9235 - val_loss: 0.2173 - val_accuracy: 0.9199\n",
      "Epoch 8/30\n",
      "469/469 [==============================] - 53s 114ms/step - loss: 0.1908 - accuracy: 0.9293 - val_loss: 0.2186 - val_accuracy: 0.9222\n",
      "Epoch 9/30\n",
      "469/469 [==============================] - 53s 114ms/step - loss: 0.1783 - accuracy: 0.9336 - val_loss: 0.2196 - val_accuracy: 0.9247\n",
      "Epoch 10/30\n",
      "469/469 [==============================] - 52s 111ms/step - loss: 0.1673 - accuracy: 0.9373 - val_loss: 0.2105 - val_accuracy: 0.9270\n",
      "Epoch 11/30\n",
      "469/469 [==============================] - 52s 112ms/step - loss: 0.1564 - accuracy: 0.9408 - val_loss: 0.2198 - val_accuracy: 0.9247\n",
      "Epoch 12/30\n",
      "469/469 [==============================] - 53s 113ms/step - loss: 0.1504 - accuracy: 0.9446 - val_loss: 0.2255 - val_accuracy: 0.9278\n",
      "Epoch 13/30\n",
      "469/469 [==============================] - 53s 112ms/step - loss: 0.1370 - accuracy: 0.9485 - val_loss: 0.2279 - val_accuracy: 0.9245\n",
      "Epoch 14/30\n",
      "469/469 [==============================] - 54s 116ms/step - loss: 0.1332 - accuracy: 0.9491 - val_loss: 0.2207 - val_accuracy: 0.9284\n",
      "Epoch 15/30\n",
      "469/469 [==============================] - 57s 121ms/step - loss: 0.1247 - accuracy: 0.9522 - val_loss: 0.2248 - val_accuracy: 0.9287\n",
      "Epoch 16/30\n",
      "469/469 [==============================] - 61s 130ms/step - loss: 0.1197 - accuracy: 0.9543 - val_loss: 0.2265 - val_accuracy: 0.9301\n",
      "Epoch 17/30\n",
      "469/469 [==============================] - 69s 146ms/step - loss: 0.1136 - accuracy: 0.9572 - val_loss: 0.2325 - val_accuracy: 0.9302\n",
      "Epoch 18/30\n",
      "469/469 [==============================] - 65s 139ms/step - loss: 0.1077 - accuracy: 0.9588 - val_loss: 0.2306 - val_accuracy: 0.9307\n",
      "Epoch 19/30\n",
      "469/469 [==============================] - 64s 136ms/step - loss: 0.1044 - accuracy: 0.9607 - val_loss: 0.2414 - val_accuracy: 0.9315\n",
      "Epoch 20/30\n",
      "469/469 [==============================] - 66s 140ms/step - loss: 0.0977 - accuracy: 0.9628 - val_loss: 0.2439 - val_accuracy: 0.9318\n",
      "Epoch 21/30\n",
      "469/469 [==============================] - 62s 132ms/step - loss: 0.0963 - accuracy: 0.9623 - val_loss: 0.2501 - val_accuracy: 0.9321\n",
      "Epoch 22/30\n",
      "469/469 [==============================] - 64s 136ms/step - loss: 0.0940 - accuracy: 0.9645 - val_loss: 0.2486 - val_accuracy: 0.9313\n",
      "Epoch 23/30\n",
      "469/469 [==============================] - 62s 133ms/step - loss: 0.0881 - accuracy: 0.9662 - val_loss: 0.2545 - val_accuracy: 0.9281\n",
      "Epoch 24/30\n",
      "469/469 [==============================] - 61s 130ms/step - loss: 0.0845 - accuracy: 0.9685 - val_loss: 0.2710 - val_accuracy: 0.9253\n",
      "Epoch 25/30\n",
      "469/469 [==============================] - 60s 128ms/step - loss: 0.0856 - accuracy: 0.9679 - val_loss: 0.2518 - val_accuracy: 0.9333\n",
      "Epoch 26/30\n",
      "469/469 [==============================] - 60s 129ms/step - loss: 0.0783 - accuracy: 0.9710 - val_loss: 0.2837 - val_accuracy: 0.9296\n",
      "Epoch 27/30\n",
      "469/469 [==============================] - 62s 133ms/step - loss: 0.0783 - accuracy: 0.9702 - val_loss: 0.2638 - val_accuracy: 0.9314\n",
      "Epoch 28/30\n",
      "469/469 [==============================] - 61s 130ms/step - loss: 0.0754 - accuracy: 0.9707 - val_loss: 0.2870 - val_accuracy: 0.9297\n",
      "Epoch 29/30\n",
      "469/469 [==============================] - 68s 144ms/step - loss: 0.0753 - accuracy: 0.9710 - val_loss: 0.2760 - val_accuracy: 0.9305\n",
      "Epoch 30/30\n",
      "469/469 [==============================] - 64s 137ms/step - loss: 0.0741 - accuracy: 0.9719 - val_loss: 0.2827 - val_accuracy: 0.9311\n"
     ]
    }
   ],
   "source": [
    "hist = cnn.fit(x_train, y_train, batch_size=128, \n",
    "               epochs=30, validation_data=(x_test, y_test))"
   ]
  }
 ],
 "metadata": {
  "kernelspec": {
   "display_name": "Python 3 (ipykernel)",
   "language": "python",
   "name": "python3"
  },
  "language_info": {
   "codemirror_mode": {
    "name": "ipython",
    "version": 3
   },
   "file_extension": ".py",
   "mimetype": "text/x-python",
   "name": "python",
   "nbconvert_exporter": "python",
   "pygments_lexer": "ipython3",
   "version": "3.9.7"
  }
 },
 "nbformat": 4,
 "nbformat_minor": 5
}
